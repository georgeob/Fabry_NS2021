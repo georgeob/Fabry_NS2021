{
  "nbformat": 4,
  "nbformat_minor": 0,
  "metadata": {
    "colab": {
      "name": "KerasZoo.ipynb",
      "provenance": [],
      "collapsed_sections": [],
      "authorship_tag": "ABX9TyMnpjBePtRESBJnw/gl5qT4",
      "include_colab_link": true
    },
    "kernelspec": {
      "name": "python3",
      "display_name": "Python 3"
    },
    "language_info": {
      "name": "python"
    }
  },
  "cells": [
    {
      "cell_type": "markdown",
      "metadata": {
        "id": "view-in-github",
        "colab_type": "text"
      },
      "source": [
        "<a href=\"https://colab.research.google.com/github/Tbijo/Fabry_NS2021/blob/master/KerasZoo.ipynb\" target=\"_parent\"><img src=\"https://colab.research.google.com/assets/colab-badge.svg\" alt=\"Open In Colab\"/></a>"
      ]
    },
    {
      "cell_type": "code",
      "metadata": {
        "id": "6l5fFd6uCdhU"
      },
      "source": [
        "# import kniznic\n",
        "%matplotlib inline\n",
        "import numpy as np\n",
        "import pandas as pd\n",
        "from sklearn.preprocessing import StandardScaler\n",
        "from sklearn.model_selection import train_test_split\n",
        "from sklearn.metrics import classification_report, confusion_matrix\n",
        "from sklearn.preprocessing import OneHotEncoder\n",
        "import seaborn as sns\n",
        "import matplotlib.pyplot as plt\n",
        "from keras.models import Sequential\n",
        "from keras.layers import Dense\n",
        "import keras\n",
        "import itertools # pre confusion matrix"
      ],
      "execution_count": 1,
      "outputs": []
    },
    {
      "cell_type": "code",
      "metadata": {
        "id": "yaz61iKzClIz",
        "colab": {
          "base_uri": "https://localhost:8080/",
          "height": 204
        },
        "outputId": "1ca94527-602a-4c77-9190-da6d15f45a61"
      },
      "source": [
        "# nacitanie a prva vizualizacia dat\n",
        "data = pd.read_csv('zoo.csv')\n",
        "data.head()"
      ],
      "execution_count": 2,
      "outputs": [
        {
          "output_type": "execute_result",
          "data": {
            "text/html": [
              "<div>\n",
              "<style scoped>\n",
              "    .dataframe tbody tr th:only-of-type {\n",
              "        vertical-align: middle;\n",
              "    }\n",
              "\n",
              "    .dataframe tbody tr th {\n",
              "        vertical-align: top;\n",
              "    }\n",
              "\n",
              "    .dataframe thead th {\n",
              "        text-align: right;\n",
              "    }\n",
              "</style>\n",
              "<table border=\"1\" class=\"dataframe\">\n",
              "  <thead>\n",
              "    <tr style=\"text-align: right;\">\n",
              "      <th></th>\n",
              "      <th>animal_name</th>\n",
              "      <th>hair</th>\n",
              "      <th>feathers</th>\n",
              "      <th>eggs</th>\n",
              "      <th>milk</th>\n",
              "      <th>airborne</th>\n",
              "      <th>aquatic</th>\n",
              "      <th>predator</th>\n",
              "      <th>toothed</th>\n",
              "      <th>backbone</th>\n",
              "      <th>breathes</th>\n",
              "      <th>venomous</th>\n",
              "      <th>fins</th>\n",
              "      <th>legs</th>\n",
              "      <th>tail</th>\n",
              "      <th>domestic</th>\n",
              "      <th>catsize</th>\n",
              "      <th>class_type</th>\n",
              "    </tr>\n",
              "  </thead>\n",
              "  <tbody>\n",
              "    <tr>\n",
              "      <th>0</th>\n",
              "      <td>aardvark</td>\n",
              "      <td>1</td>\n",
              "      <td>0</td>\n",
              "      <td>0</td>\n",
              "      <td>1</td>\n",
              "      <td>0</td>\n",
              "      <td>0</td>\n",
              "      <td>1</td>\n",
              "      <td>1</td>\n",
              "      <td>1</td>\n",
              "      <td>1</td>\n",
              "      <td>0</td>\n",
              "      <td>0</td>\n",
              "      <td>4</td>\n",
              "      <td>0</td>\n",
              "      <td>0</td>\n",
              "      <td>1</td>\n",
              "      <td>1</td>\n",
              "    </tr>\n",
              "    <tr>\n",
              "      <th>1</th>\n",
              "      <td>antelope</td>\n",
              "      <td>1</td>\n",
              "      <td>0</td>\n",
              "      <td>0</td>\n",
              "      <td>1</td>\n",
              "      <td>0</td>\n",
              "      <td>0</td>\n",
              "      <td>0</td>\n",
              "      <td>1</td>\n",
              "      <td>1</td>\n",
              "      <td>1</td>\n",
              "      <td>0</td>\n",
              "      <td>0</td>\n",
              "      <td>4</td>\n",
              "      <td>1</td>\n",
              "      <td>0</td>\n",
              "      <td>1</td>\n",
              "      <td>1</td>\n",
              "    </tr>\n",
              "    <tr>\n",
              "      <th>2</th>\n",
              "      <td>bass</td>\n",
              "      <td>0</td>\n",
              "      <td>0</td>\n",
              "      <td>1</td>\n",
              "      <td>0</td>\n",
              "      <td>0</td>\n",
              "      <td>1</td>\n",
              "      <td>1</td>\n",
              "      <td>1</td>\n",
              "      <td>1</td>\n",
              "      <td>0</td>\n",
              "      <td>0</td>\n",
              "      <td>1</td>\n",
              "      <td>0</td>\n",
              "      <td>1</td>\n",
              "      <td>0</td>\n",
              "      <td>0</td>\n",
              "      <td>4</td>\n",
              "    </tr>\n",
              "    <tr>\n",
              "      <th>3</th>\n",
              "      <td>bear</td>\n",
              "      <td>1</td>\n",
              "      <td>0</td>\n",
              "      <td>0</td>\n",
              "      <td>1</td>\n",
              "      <td>0</td>\n",
              "      <td>0</td>\n",
              "      <td>1</td>\n",
              "      <td>1</td>\n",
              "      <td>1</td>\n",
              "      <td>1</td>\n",
              "      <td>0</td>\n",
              "      <td>0</td>\n",
              "      <td>4</td>\n",
              "      <td>0</td>\n",
              "      <td>0</td>\n",
              "      <td>1</td>\n",
              "      <td>1</td>\n",
              "    </tr>\n",
              "    <tr>\n",
              "      <th>4</th>\n",
              "      <td>boar</td>\n",
              "      <td>1</td>\n",
              "      <td>0</td>\n",
              "      <td>0</td>\n",
              "      <td>1</td>\n",
              "      <td>0</td>\n",
              "      <td>0</td>\n",
              "      <td>1</td>\n",
              "      <td>1</td>\n",
              "      <td>1</td>\n",
              "      <td>1</td>\n",
              "      <td>0</td>\n",
              "      <td>0</td>\n",
              "      <td>4</td>\n",
              "      <td>1</td>\n",
              "      <td>0</td>\n",
              "      <td>1</td>\n",
              "      <td>1</td>\n",
              "    </tr>\n",
              "  </tbody>\n",
              "</table>\n",
              "</div>"
            ],
            "text/plain": [
              "  animal_name  hair  feathers  eggs  ...  tail  domestic  catsize  class_type\n",
              "0    aardvark     1         0     0  ...     0         0        1           1\n",
              "1    antelope     1         0     0  ...     1         0        1           1\n",
              "2        bass     0         0     1  ...     1         0        0           4\n",
              "3        bear     1         0     0  ...     0         0        1           1\n",
              "4        boar     1         0     0  ...     1         0        1           1\n",
              "\n",
              "[5 rows x 18 columns]"
            ]
          },
          "metadata": {
            "tags": []
          },
          "execution_count": 2
        }
      ]
    },
    {
      "cell_type": "code",
      "metadata": {
        "id": "nw5hpDGBCztJ",
        "colab": {
          "base_uri": "https://localhost:8080/",
          "height": 336
        },
        "outputId": "5b5c1434-81b5-4a77-ff7c-50d5a5418660"
      },
      "source": [
        "# podla stlpca class_type sa budu robit predikcie \n",
        "sns.countplot(data.iloc[:, -1:].values.flatten())\n",
        "# vidime ze mame 7 roznych kategorii"
      ],
      "execution_count": 4,
      "outputs": [
        {
          "output_type": "stream",
          "text": [
            "/usr/local/lib/python3.7/dist-packages/seaborn/_decorators.py:43: FutureWarning: Pass the following variable as a keyword arg: x. From version 0.12, the only valid positional argument will be `data`, and passing other arguments without an explicit keyword will result in an error or misinterpretation.\n",
            "  FutureWarning\n"
          ],
          "name": "stderr"
        },
        {
          "output_type": "execute_result",
          "data": {
            "text/plain": [
              "<matplotlib.axes._subplots.AxesSubplot at 0x7f0690d71cd0>"
            ]
          },
          "metadata": {
            "tags": []
          },
          "execution_count": 4
        },
        {
          "output_type": "display_data",
          "data": {
            "image/png": "[encoded data removed]",
            "text/plain": [
              "<Figure size 432x288 with 1 Axes>"
            ]
          },
          "metadata": {
            "tags": [],
            "needs_background": "light"
          }
        }
      ]
    },
    {
      "cell_type": "code",
      "metadata": {
        "colab": {
          "base_uri": "https://localhost:8080/"
        },
        "id": "wcuT7XegdPHS",
        "outputId": "83bb6688-3b3b-4366-fd14-c590e975cfa4"
      },
      "source": [
        "# priprava dat na rozdelenie do testovacich a trenovacich mnozin\n",
        "X = data.iloc[:, 1:-1].values # vyberieme vsetky stlpce okrem posledneho\n",
        "Y = data.class_type.values # vyberieme posledny stlpec lebo ten urcuje kategorie\n",
        "Y"
      ],
      "execution_count": 5,
      "outputs": [
        {
          "output_type": "execute_result",
          "data": {
            "text/plain": [
              "array([1, 1, 4, 1, 1, 1, 1, 4, 4, 1, 1, 2, 4, 7, 7, 7, 2, 1, 4, 1, 2, 2,\n",
              "       1, 2, 6, 5, 5, 1, 1, 1, 6, 1, 1, 2, 4, 1, 1, 2, 4, 6, 6, 2, 6, 2,\n",
              "       1, 1, 7, 1, 1, 1, 1, 6, 5, 7, 1, 1, 2, 2, 2, 2, 4, 4, 3, 1, 1, 1,\n",
              "       1, 1, 1, 1, 1, 2, 7, 4, 1, 1, 3, 7, 2, 2, 3, 7, 4, 2, 1, 7, 4, 2,\n",
              "       6, 5, 3, 3, 4, 1, 1, 2, 1, 6, 1, 7, 2])"
            ]
          },
          "metadata": {
            "tags": []
          },
          "execution_count": 5
        }
      ]
    },
    {
      "cell_type": "code",
      "metadata": {
        "id": "9qgAeC05DD78",
        "colab": {
          "base_uri": "https://localhost:8080/"
        },
        "outputId": "e3a6cbf7-af0e-42dc-f951-0a5acc23f396"
      },
      "source": [
        "# kategorizacia\n",
        "# na kategorizovanie pouzijeme OneHotEncoder\n",
        "#   pouziva sa ak sa pracuje s viacerymi kategoriami, \n",
        "#   na vstup ale potrebuje 2 dimensionalne pole to nam riesi funkcia reshape()\n",
        "#   automaticky odstranuje niektore nepotrebne udaje v tomto pripade stlpec s cislovanim riadkov\n",
        "encoder = OneHotEncoder()\n",
        "Y = encoder.fit_transform(Y.reshape(-1,1)).toarray()\n",
        "Y\n",
        "# mame maticu ktorej stlpce predstavuju kategorie zvierat\n",
        "# 1 znamena ze zviera patri do tej kategorie"
      ],
      "execution_count": 6,
      "outputs": [
        {
          "output_type": "execute_result",
          "data": {
            "text/plain": [
              "array([[1., 0., 0., 0., 0., 0., 0.],\n",
              "       [1., 0., 0., 0., 0., 0., 0.],\n",
              "       [0., 0., 0., 1., 0., 0., 0.],\n",
              "       [1., 0., 0., 0., 0., 0., 0.],\n",
              "       [1., 0., 0., 0., 0., 0., 0.],\n",
              "       [1., 0., 0., 0., 0., 0., 0.],\n",
              "       [1., 0., 0., 0., 0., 0., 0.],\n",
              "       [0., 0., 0., 1., 0., 0., 0.],\n",
              "       [0., 0., 0., 1., 0., 0., 0.],\n",
              "       [1., 0., 0., 0., 0., 0., 0.],\n",
              "       [1., 0., 0., 0., 0., 0., 0.],\n",
              "       [0., 1., 0., 0., 0., 0., 0.],\n",
              "       [0., 0., 0., 1., 0., 0., 0.],\n",
              "       [0., 0., 0., 0., 0., 0., 1.],\n",
              "       [0., 0., 0., 0., 0., 0., 1.],\n",
              "       [0., 0., 0., 0., 0., 0., 1.],\n",
              "       [0., 1., 0., 0., 0., 0., 0.],\n",
              "       [1., 0., 0., 0., 0., 0., 0.],\n",
              "       [0., 0., 0., 1., 0., 0., 0.],\n",
              "       [1., 0., 0., 0., 0., 0., 0.],\n",
              "       [0., 1., 0., 0., 0., 0., 0.],\n",
              "       [0., 1., 0., 0., 0., 0., 0.],\n",
              "       [1., 0., 0., 0., 0., 0., 0.],\n",
              "       [0., 1., 0., 0., 0., 0., 0.],\n",
              "       [0., 0., 0., 0., 0., 1., 0.],\n",
              "       [0., 0., 0., 0., 1., 0., 0.],\n",
              "       [0., 0., 0., 0., 1., 0., 0.],\n",
              "       [1., 0., 0., 0., 0., 0., 0.],\n",
              "       [1., 0., 0., 0., 0., 0., 0.],\n",
              "       [1., 0., 0., 0., 0., 0., 0.],\n",
              "       [0., 0., 0., 0., 0., 1., 0.],\n",
              "       [1., 0., 0., 0., 0., 0., 0.],\n",
              "       [1., 0., 0., 0., 0., 0., 0.],\n",
              "       [0., 1., 0., 0., 0., 0., 0.],\n",
              "       [0., 0., 0., 1., 0., 0., 0.],\n",
              "       [1., 0., 0., 0., 0., 0., 0.],\n",
              "       [1., 0., 0., 0., 0., 0., 0.],\n",
              "       [0., 1., 0., 0., 0., 0., 0.],\n",
              "       [0., 0., 0., 1., 0., 0., 0.],\n",
              "       [0., 0., 0., 0., 0., 1., 0.],\n",
              "       [0., 0., 0., 0., 0., 1., 0.],\n",
              "       [0., 1., 0., 0., 0., 0., 0.],\n",
              "       [0., 0., 0., 0., 0., 1., 0.],\n",
              "       [0., 1., 0., 0., 0., 0., 0.],\n",
              "       [1., 0., 0., 0., 0., 0., 0.],\n",
              "       [1., 0., 0., 0., 0., 0., 0.],\n",
              "       [0., 0., 0., 0., 0., 0., 1.],\n",
              "       [1., 0., 0., 0., 0., 0., 0.],\n",
              "       [1., 0., 0., 0., 0., 0., 0.],\n",
              "       [1., 0., 0., 0., 0., 0., 0.],\n",
              "       [1., 0., 0., 0., 0., 0., 0.],\n",
              "       [0., 0., 0., 0., 0., 1., 0.],\n",
              "       [0., 0., 0., 0., 1., 0., 0.],\n",
              "       [0., 0., 0., 0., 0., 0., 1.],\n",
              "       [1., 0., 0., 0., 0., 0., 0.],\n",
              "       [1., 0., 0., 0., 0., 0., 0.],\n",
              "       [0., 1., 0., 0., 0., 0., 0.],\n",
              "       [0., 1., 0., 0., 0., 0., 0.],\n",
              "       [0., 1., 0., 0., 0., 0., 0.],\n",
              "       [0., 1., 0., 0., 0., 0., 0.],\n",
              "       [0., 0., 0., 1., 0., 0., 0.],\n",
              "       [0., 0., 0., 1., 0., 0., 0.],\n",
              "       [0., 0., 1., 0., 0., 0., 0.],\n",
              "       [1., 0., 0., 0., 0., 0., 0.],\n",
              "       [1., 0., 0., 0., 0., 0., 0.],\n",
              "       [1., 0., 0., 0., 0., 0., 0.],\n",
              "       [1., 0., 0., 0., 0., 0., 0.],\n",
              "       [1., 0., 0., 0., 0., 0., 0.],\n",
              "       [1., 0., 0., 0., 0., 0., 0.],\n",
              "       [1., 0., 0., 0., 0., 0., 0.],\n",
              "       [1., 0., 0., 0., 0., 0., 0.],\n",
              "       [0., 1., 0., 0., 0., 0., 0.],\n",
              "       [0., 0., 0., 0., 0., 0., 1.],\n",
              "       [0., 0., 0., 1., 0., 0., 0.],\n",
              "       [1., 0., 0., 0., 0., 0., 0.],\n",
              "       [1., 0., 0., 0., 0., 0., 0.],\n",
              "       [0., 0., 1., 0., 0., 0., 0.],\n",
              "       [0., 0., 0., 0., 0., 0., 1.],\n",
              "       [0., 1., 0., 0., 0., 0., 0.],\n",
              "       [0., 1., 0., 0., 0., 0., 0.],\n",
              "       [0., 0., 1., 0., 0., 0., 0.],\n",
              "       [0., 0., 0., 0., 0., 0., 1.],\n",
              "       [0., 0., 0., 1., 0., 0., 0.],\n",
              "       [0., 1., 0., 0., 0., 0., 0.],\n",
              "       [1., 0., 0., 0., 0., 0., 0.],\n",
              "       [0., 0., 0., 0., 0., 0., 1.],\n",
              "       [0., 0., 0., 1., 0., 0., 0.],\n",
              "       [0., 1., 0., 0., 0., 0., 0.],\n",
              "       [0., 0., 0., 0., 0., 1., 0.],\n",
              "       [0., 0., 0., 0., 1., 0., 0.],\n",
              "       [0., 0., 1., 0., 0., 0., 0.],\n",
              "       [0., 0., 1., 0., 0., 0., 0.],\n",
              "       [0., 0., 0., 1., 0., 0., 0.],\n",
              "       [1., 0., 0., 0., 0., 0., 0.],\n",
              "       [1., 0., 0., 0., 0., 0., 0.],\n",
              "       [0., 1., 0., 0., 0., 0., 0.],\n",
              "       [1., 0., 0., 0., 0., 0., 0.],\n",
              "       [0., 0., 0., 0., 0., 1., 0.],\n",
              "       [1., 0., 0., 0., 0., 0., 0.],\n",
              "       [0., 0., 0., 0., 0., 0., 1.],\n",
              "       [0., 1., 0., 0., 0., 0., 0.]])"
            ]
          },
          "metadata": {
            "tags": []
          },
          "execution_count": 6
        }
      ]
    },
    {
      "cell_type": "code",
      "metadata": {
        "id": "-VgOILBIDJni"
      },
      "source": [
        "# rozdelenie dat na trenovacie a testovacie mnoziny\n",
        "# X - klasifikovat podla stlpca text\n",
        "# Y - na urcenie kategorie\n",
        "# test_size pomer ako sa to ma rozdelit 80:20 train:test (0.2)\n",
        "# random_state nahodne rozdeli ale si to zapamata, bude generovat nahodne cisla\n",
        "x_train, x_test, y_train, y_test = train_test_split(X, Y, random_state=0, test_size=0.2)"
      ],
      "execution_count": 7,
      "outputs": []
    },
    {
      "cell_type": "code",
      "metadata": {
        "id": "vYioCSJBDOq2",
        "colab": {
          "base_uri": "https://localhost:8080/"
        },
        "outputId": "7f42e484-54ee-4424-c44e-d8643b64cd91"
      },
      "source": [
        "# vytvorenie modelu\n",
        "model = Sequential() \n",
        "\n",
        "# pridavanie skrytych vrstiev s nejakym poctom neuronov a aktivacnymi funkciami\n",
        "\n",
        "# prva skryta vrstva s 20 neuronmi \n",
        "#   input_dim pocet dimenzii (vrstiev) kolko vstupov ma ocakavat specifikuje sa len pre prvu skrytu vrstvu\n",
        "#   atkivacna funkcia relu\n",
        "model.add(Dense(units = 20, activation = 'relu', input_dim = 16))\n",
        "# Druha skryta vrstva s 10 neuronmi \n",
        "#   aktivacna funkcia relu\n",
        "model.add(Dense(units = 10, activation = 'relu'))\n",
        "\n",
        "# dali sme len dve skryte vrstvy pretoze narocnost datasetu si to nevyzaduje\n",
        "# pouzili sme funkciu relu pretoze je menej nachylna na miznutie prechodov co zabranuje hlbkovemu uceniu a je vhodna ak sme normalizovali data na (0-1)\n",
        "\n",
        "# Vystupna vrstva so 7 neuronmi lebo ocakavame 7 vystupov (pocet klasifikacii) / lebo kategoricka premenna ma 7 hodnot (7 klasifikacii)\n",
        "#   aktivacna funkcia sigmoid pouzili sme ju preto lebo je najvhodnejsia pre klasifikovanie\n",
        "model.add(Dense(units = 7, activation = 'sigmoid'))\n",
        "\n",
        "# model je pripraveny treba ho skompilovat a potom natrenovat\n",
        "\n",
        "# sumarizacia modelu ktory sme vytvorili\n",
        "model.summary()"
      ],
      "execution_count": 8,
      "outputs": [
        {
          "output_type": "stream",
          "text": [
            "Model: \"sequential\"\n",
            "_________________________________________________________________\n",
            "Layer (type)                 Output Shape              Param #   \n",
            "=================================================================\n",
            "dense (Dense)                (None, 20)                340       \n",
            "_________________________________________________________________\n",
            "dense_1 (Dense)              (None, 10)                210       \n",
            "_________________________________________________________________\n",
            "dense_2 (Dense)              (None, 7)                 77        \n",
            "=================================================================\n",
            "Total params: 627\n",
            "Trainable params: 627\n",
            "Non-trainable params: 0\n",
            "_________________________________________________________________\n"
          ],
          "name": "stdout"
        }
      ]
    },
    {
      "cell_type": "code",
      "metadata": {
        "id": "X9ssV-of5MRQ"
      },
      "source": [
        "# compilacia modelu\n",
        "# pred trenovanim ho treba skompilovat - priprava na trenovanie\n",
        "# param strata - loss napr. metoda najmensich stvorcov alebo sparse_categorical_crossentropy\n",
        "# optimizer - na zaklade coho sa ma optimalizovat \n",
        "# metrics - pridanie presnosti k vysledku, podla coho budeme sudit nas model (accuracy podla presnosti)\n",
        "model.compile(loss='categorical_crossentropy', optimizer='Adam', metrics=['accuracy'])"
      ],
      "execution_count": 9,
      "outputs": []
    },
    {
      "cell_type": "code",
      "metadata": {
        "id": "nqouOXMVDSyy",
        "colab": {
          "base_uri": "https://localhost:8080/"
        },
        "outputId": "961b7be8-c08b-4456-fd35-23fd3716ac19"
      },
      "source": [
        "# x_train - vstupne data / vzorky (numpy array)\n",
        "# y_train - labels for corresponding vzorky target data (numpy array)\n",
        "# batch_size - kolko samplov/vstupnych dat sa spracuje v sieti naraz\n",
        "# epochs - model sa bude trenovat na vsetkych datach (epochs = 40) v tomto pripade 40-krat pred skoncenim trenovania\n",
        "# shufle - je vzdy true aby sa model neucil podla poradia udajov v datasete\n",
        "# verbose - aby sme videli output zakazdym ked zbehne fit funkcia (0,1,2) cim vyssie cislo tym podrobnejsi output\n",
        "# validating score with validation_data\n",
        "trenovanieSiete = model.fit(x_train, y_train, epochs=40, batch_size=8, validation_data=(x_test, y_test), verbose=2)\n",
        "# uvidime loss a accuracy pre trenovacie mnoziny a aj los a accuracy pre validacne/testovacie mnoziny\n",
        "# loss by sa mala zmensovat\n",
        "# accuracy zvacsovat"
      ],
      "execution_count": 10,
      "outputs": [
        {
          "output_type": "stream",
          "text": [
            "Epoch 1/40\n",
            "10/10 - 1s - loss: 2.1746 - accuracy: 0.1125 - val_loss: 2.0441 - val_accuracy: 0.0476\n",
            "Epoch 2/40\n",
            "10/10 - 0s - loss: 2.0388 - accuracy: 0.0875 - val_loss: 1.9661 - val_accuracy: 0.0476\n",
            "Epoch 3/40\n",
            "10/10 - 0s - loss: 1.9166 - accuracy: 0.1125 - val_loss: 1.8923 - val_accuracy: 0.1905\n",
            "Epoch 4/40\n",
            "10/10 - 0s - loss: 1.8190 - accuracy: 0.4125 - val_loss: 1.8224 - val_accuracy: 0.3333\n",
            "Epoch 5/40\n",
            "10/10 - 0s - loss: 1.7248 - accuracy: 0.4875 - val_loss: 1.7512 - val_accuracy: 0.3333\n",
            "Epoch 6/40\n",
            "10/10 - 0s - loss: 1.6389 - accuracy: 0.4375 - val_loss: 1.6878 - val_accuracy: 0.3333\n",
            "Epoch 7/40\n",
            "10/10 - 0s - loss: 1.5594 - accuracy: 0.4250 - val_loss: 1.6290 - val_accuracy: 0.3333\n",
            "Epoch 8/40\n",
            "10/10 - 0s - loss: 1.4969 - accuracy: 0.4250 - val_loss: 1.5774 - val_accuracy: 0.3333\n",
            "Epoch 9/40\n",
            "10/10 - 0s - loss: 1.4391 - accuracy: 0.4250 - val_loss: 1.5337 - val_accuracy: 0.3333\n",
            "Epoch 10/40\n",
            "10/10 - 0s - loss: 1.3947 - accuracy: 0.4250 - val_loss: 1.4932 - val_accuracy: 0.3333\n",
            "Epoch 11/40\n",
            "10/10 - 0s - loss: 1.3486 - accuracy: 0.4250 - val_loss: 1.4562 - val_accuracy: 0.3333\n",
            "Epoch 12/40\n",
            "10/10 - 0s - loss: 1.3101 - accuracy: 0.4250 - val_loss: 1.4224 - val_accuracy: 0.3333\n",
            "Epoch 13/40\n",
            "10/10 - 0s - loss: 1.2753 - accuracy: 0.4250 - val_loss: 1.3874 - val_accuracy: 0.3810\n",
            "Epoch 14/40\n",
            "10/10 - 0s - loss: 1.2384 - accuracy: 0.4250 - val_loss: 1.3535 - val_accuracy: 0.3810\n",
            "Epoch 15/40\n",
            "10/10 - 0s - loss: 1.2011 - accuracy: 0.4500 - val_loss: 1.3174 - val_accuracy: 0.3810\n",
            "Epoch 16/40\n",
            "10/10 - 0s - loss: 1.1647 - accuracy: 0.4625 - val_loss: 1.2790 - val_accuracy: 0.4286\n",
            "Epoch 17/40\n",
            "10/10 - 0s - loss: 1.1239 - accuracy: 0.5250 - val_loss: 1.2414 - val_accuracy: 0.5238\n",
            "Epoch 18/40\n",
            "10/10 - 0s - loss: 1.0870 - accuracy: 0.5500 - val_loss: 1.2030 - val_accuracy: 0.5238\n",
            "Epoch 19/40\n",
            "10/10 - 0s - loss: 1.0471 - accuracy: 0.5625 - val_loss: 1.1638 - val_accuracy: 0.5714\n",
            "Epoch 20/40\n",
            "10/10 - 0s - loss: 1.0098 - accuracy: 0.6250 - val_loss: 1.1226 - val_accuracy: 0.5714\n",
            "Epoch 21/40\n",
            "10/10 - 0s - loss: 0.9722 - accuracy: 0.6750 - val_loss: 1.0847 - val_accuracy: 0.6667\n",
            "Epoch 22/40\n",
            "10/10 - 0s - loss: 0.9331 - accuracy: 0.7375 - val_loss: 1.0439 - val_accuracy: 0.8095\n",
            "Epoch 23/40\n",
            "10/10 - 0s - loss: 0.8938 - accuracy: 0.7875 - val_loss: 1.0024 - val_accuracy: 0.8095\n",
            "Epoch 24/40\n",
            "10/10 - 0s - loss: 0.8563 - accuracy: 0.8375 - val_loss: 0.9588 - val_accuracy: 0.8571\n",
            "Epoch 25/40\n",
            "10/10 - 0s - loss: 0.8186 - accuracy: 0.8375 - val_loss: 0.9203 - val_accuracy: 0.8571\n",
            "Epoch 26/40\n",
            "10/10 - 0s - loss: 0.7848 - accuracy: 0.8500 - val_loss: 0.8826 - val_accuracy: 0.8571\n",
            "Epoch 27/40\n",
            "10/10 - 0s - loss: 0.7506 - accuracy: 0.8750 - val_loss: 0.8441 - val_accuracy: 0.8571\n",
            "Epoch 28/40\n",
            "10/10 - 0s - loss: 0.7188 - accuracy: 0.9125 - val_loss: 0.8065 - val_accuracy: 0.9048\n",
            "Epoch 29/40\n",
            "10/10 - 0s - loss: 0.6867 - accuracy: 0.9125 - val_loss: 0.7709 - val_accuracy: 0.9048\n",
            "Epoch 30/40\n",
            "10/10 - 0s - loss: 0.6605 - accuracy: 0.9125 - val_loss: 0.7372 - val_accuracy: 0.9048\n",
            "Epoch 31/40\n",
            "10/10 - 0s - loss: 0.6311 - accuracy: 0.9125 - val_loss: 0.7052 - val_accuracy: 0.9048\n",
            "Epoch 32/40\n",
            "10/10 - 0s - loss: 0.6039 - accuracy: 0.9125 - val_loss: 0.6741 - val_accuracy: 0.9048\n",
            "Epoch 33/40\n",
            "10/10 - 0s - loss: 0.5796 - accuracy: 0.9125 - val_loss: 0.6441 - val_accuracy: 0.9048\n",
            "Epoch 34/40\n",
            "10/10 - 0s - loss: 0.5568 - accuracy: 0.9250 - val_loss: 0.6144 - val_accuracy: 0.9524\n",
            "Epoch 35/40\n",
            "10/10 - 0s - loss: 0.5339 - accuracy: 0.9250 - val_loss: 0.5932 - val_accuracy: 0.9524\n",
            "Epoch 36/40\n",
            "10/10 - 0s - loss: 0.5147 - accuracy: 0.9250 - val_loss: 0.5660 - val_accuracy: 0.9524\n",
            "Epoch 37/40\n",
            "10/10 - 0s - loss: 0.4927 - accuracy: 0.9250 - val_loss: 0.5383 - val_accuracy: 0.9524\n",
            "Epoch 38/40\n",
            "10/10 - 0s - loss: 0.4740 - accuracy: 0.9250 - val_loss: 0.5177 - val_accuracy: 0.9524\n",
            "Epoch 39/40\n",
            "10/10 - 0s - loss: 0.4570 - accuracy: 0.9250 - val_loss: 0.4956 - val_accuracy: 0.9524\n",
            "Epoch 40/40\n",
            "10/10 - 0s - loss: 0.4423 - accuracy: 0.9250 - val_loss: 0.4783 - val_accuracy: 0.9524\n"
          ],
          "name": "stdout"
        }
      ]
    },
    {
      "cell_type": "code",
      "metadata": {
        "colab": {
          "base_uri": "https://localhost:8080/",
          "height": 573
        },
        "id": "fveArJIxJ3w5",
        "outputId": "700fbbf3-6635-440e-bf88-51f070b475f6"
      },
      "source": [
        "# graf pre klesanie loss a rastie accuracy\n",
        "\n",
        "plt.plot(trenovanieSiete.history['val_accuracy'])\n",
        "plt.title('Vyvoj Presnosti')\n",
        "plt.ylabel('val_accuracy')\n",
        "plt.xlabel('epoch')\n",
        "plt.show()\n",
        "\n",
        "plt.plot(trenovanieSiete.history['val_loss'])\n",
        "plt.title('Vyvoj Chybovosti')\n",
        "plt.ylabel('val_loss')\n",
        "plt.xlabel('epoch')\n",
        "plt.show()"
      ],
      "execution_count": 11,
      "outputs": [
        {
          "output_type": "display_data",
          "data": {
            "image/png": "[encoded data removed]",
            "text/plain": [
              "<Figure size 432x288 with 1 Axes>"
            ]
          },
          "metadata": {
            "tags": [],
            "needs_background": "light"
          }
        },
        {
          "output_type": "display_data",
          "data": {
            "image/png": "[encoded data removed]",
            "text/plain": [
              "<Figure size 432x288 with 1 Axes>"
            ]
          },
          "metadata": {
            "tags": [],
            "needs_background": "light"
          }
        }
      ]
    },
    {
      "cell_type": "code",
      "metadata": {
        "id": "_qSNFqw8DVzv",
        "colab": {
          "base_uri": "https://localhost:8080/"
        },
        "outputId": "8510eae9-5f42-4a3d-a713-94c494194323"
      },
      "source": [
        "# vypis evaluacie sieti\n",
        "print(\"\\nPresnost: %.2f%%\" % (model.evaluate(x_test, y_test)[1]*100))"
      ],
      "execution_count": 12,
      "outputs": [
        {
          "output_type": "stream",
          "text": [
            "1/1 [==============================] - 0s 17ms/step - loss: 0.4783 - accuracy: 0.9524\n",
            "\n",
            "Presnost: 95.24%\n"
          ],
          "name": "stdout"
        }
      ]
    },
    {
      "cell_type": "code",
      "metadata": {
        "colab": {
          "base_uri": "https://localhost:8080/"
        },
        "id": "im2t3VwKfOfh",
        "outputId": "6f8d3ab2-8a1c-4729-d8a9-e4ed58e50a35"
      },
      "source": [
        "y_pred_con = model.predict(x_test)\n",
        "y_pred_con"
      ],
      "execution_count": 13,
      "outputs": [
        {
          "output_type": "execute_result",
          "data": {
            "text/plain": [
              "array([[0.59626806, 0.27722934, 0.6941601 , 0.46255195, 0.35553998,\n",
              "        0.20787185, 0.6920458 ],\n",
              "       [0.6046509 , 0.0197179 , 0.52813536, 0.8587181 , 0.45973322,\n",
              "        0.27829084, 0.31212926],\n",
              "       [0.5568263 , 0.0226264 , 0.38245943, 0.8678668 , 0.40460548,\n",
              "        0.45393768, 0.28239864],\n",
              "       [0.9870196 , 0.39896777, 0.337234  , 0.07089457, 0.30886585,\n",
              "        0.01543969, 0.20715567],\n",
              "       [0.9868432 , 0.21766636, 0.32504666, 0.12326702, 0.4083435 ,\n",
              "        0.01512483, 0.16506013],\n",
              "       [0.97543025, 0.33433655, 0.37478584, 0.12165412, 0.3180501 ,\n",
              "        0.02761397, 0.24174687],\n",
              "       [0.5310495 , 0.95526874, 0.47123104, 0.24146515, 0.15244567,\n",
              "        0.55933905, 0.22074917],\n",
              "       [0.5575123 , 0.02159458, 0.33540288, 0.87456286, 0.3916092 ,\n",
              "        0.50223225, 0.2576959 ],\n",
              "       [0.9778769 , 0.3080148 , 0.47159392, 0.10983112, 0.32226014,\n",
              "        0.01874498, 0.33216906],\n",
              "       [0.98589885, 0.4963569 , 0.44385603, 0.06343797, 0.3963138 ,\n",
              "        0.01019451, 0.22248173],\n",
              "       [0.50373524, 0.212921  , 0.47869742, 0.54343015, 0.16514763,\n",
              "        0.53813016, 0.69376874],\n",
              "       [0.9422645 , 0.5674074 , 0.35682777, 0.16199088, 0.2970621 ,\n",
              "        0.07646793, 0.18258375],\n",
              "       [0.456475  , 0.93873596, 0.4764287 , 0.30176955, 0.16265109,\n",
              "        0.5996833 , 0.21592131],\n",
              "       [0.48720232, 0.42194572, 0.50598586, 0.4699272 , 0.41844085,\n",
              "        0.3906362 , 0.58640087],\n",
              "       [0.59413946, 0.01552197, 0.4285607 , 0.8739425 , 0.4139086 ,\n",
              "        0.35480127, 0.27459082],\n",
              "       [0.28086382, 0.508701  , 0.21723974, 0.67969126, 0.16567788,\n",
              "        0.89128745, 0.28626084],\n",
              "       [0.9870196 , 0.39896777, 0.337234  , 0.07089457, 0.30886585,\n",
              "        0.01543969, 0.20715567],\n",
              "       [0.31285208, 0.41746706, 0.3449624 , 0.64683926, 0.21791959,\n",
              "        0.7884524 , 0.46669853],\n",
              "       [0.45647508, 0.9387359 , 0.47642872, 0.30176952, 0.16265112,\n",
              "        0.5996832 , 0.21592134],\n",
              "       [0.5568263 , 0.0226264 , 0.38245952, 0.86786675, 0.4046055 ,\n",
              "        0.4539376 , 0.2823987 ],\n",
              "       [0.5309493 , 0.96810806, 0.4532653 , 0.22173372, 0.14303648,\n",
              "        0.5757488 , 0.18413302]], dtype=float32)"
            ]
          },
          "metadata": {
            "tags": []
          },
          "execution_count": 13
        }
      ]
    },
    {
      "cell_type": "code",
      "metadata": {
        "id": "o3-iwW9sDZhK",
        "colab": {
          "base_uri": "https://localhost:8080/",
          "height": 700
        },
        "outputId": "dec32a05-14a0-47f1-fcf0-80e8370285b7"
      },
      "source": [
        "# PREDIKCIA\n",
        "# x_test su data podla ktorych chceme aby nas model predikoval\n",
        "y_pred_con = model.predict(x_test)\n",
        "# vrati nam maticu percentualnych hodnot, z kazdeho riadku vyberieme index stlpca s najvacsou hodnotou\n",
        "#   index stlpca bude prisluchat k jeho kategorii\n",
        "\n",
        "y_predik, y_real = [], []\n",
        "\n",
        "# argmax vrati index najvacsej hodnoty v poly\n",
        "# pouzijeme ho aby sme videli najpravdepodobnejsie predikcie\n",
        "\n",
        "# rovnako pri predikovanych datach aj realnych datach akurat z nich budeme vracat indexi nie kde sa nachadza najvacsia percentualna hodnota ale hodnota 1\n",
        "for i in y_test:\n",
        "    y_real.append(np.argmax(i)) \n",
        "for j in y_pred_con:\n",
        "    y_predik.append(np.argmax(j))\n",
        "    \n",
        "# potom hodnoty vlozime do dataframe-u aby sme videli porovnat uspesnost\n",
        "df = pd.DataFrame()\n",
        "df['Predik_Kategoria'] = y_predik\n",
        "df['Realna_Kategoria'] = y_real\n",
        "# zvacsit kazdu\n",
        "df"
      ],
      "execution_count": 14,
      "outputs": [
        {
          "output_type": "execute_result",
          "data": {
            "text/html": [
              "<div>\n",
              "<style scoped>\n",
              "    .dataframe tbody tr th:only-of-type {\n",
              "        vertical-align: middle;\n",
              "    }\n",
              "\n",
              "    .dataframe tbody tr th {\n",
              "        vertical-align: top;\n",
              "    }\n",
              "\n",
              "    .dataframe thead th {\n",
              "        text-align: right;\n",
              "    }\n",
              "</style>\n",
              "<table border=\"1\" class=\"dataframe\">\n",
              "  <thead>\n",
              "    <tr style=\"text-align: right;\">\n",
              "      <th></th>\n",
              "      <th>Predik_Kategoria</th>\n",
              "      <th>Realna_Kategoria</th>\n",
              "    </tr>\n",
              "  </thead>\n",
              "  <tbody>\n",
              "    <tr>\n",
              "      <th>0</th>\n",
              "      <td>2</td>\n",
              "      <td>4</td>\n",
              "    </tr>\n",
              "    <tr>\n",
              "      <th>1</th>\n",
              "      <td>3</td>\n",
              "      <td>3</td>\n",
              "    </tr>\n",
              "    <tr>\n",
              "      <th>2</th>\n",
              "      <td>3</td>\n",
              "      <td>3</td>\n",
              "    </tr>\n",
              "    <tr>\n",
              "      <th>3</th>\n",
              "      <td>0</td>\n",
              "      <td>0</td>\n",
              "    </tr>\n",
              "    <tr>\n",
              "      <th>4</th>\n",
              "      <td>0</td>\n",
              "      <td>0</td>\n",
              "    </tr>\n",
              "    <tr>\n",
              "      <th>5</th>\n",
              "      <td>0</td>\n",
              "      <td>0</td>\n",
              "    </tr>\n",
              "    <tr>\n",
              "      <th>6</th>\n",
              "      <td>1</td>\n",
              "      <td>1</td>\n",
              "    </tr>\n",
              "    <tr>\n",
              "      <th>7</th>\n",
              "      <td>3</td>\n",
              "      <td>3</td>\n",
              "    </tr>\n",
              "    <tr>\n",
              "      <th>8</th>\n",
              "      <td>0</td>\n",
              "      <td>0</td>\n",
              "    </tr>\n",
              "    <tr>\n",
              "      <th>9</th>\n",
              "      <td>0</td>\n",
              "      <td>0</td>\n",
              "    </tr>\n",
              "    <tr>\n",
              "      <th>10</th>\n",
              "      <td>6</td>\n",
              "      <td>6</td>\n",
              "    </tr>\n",
              "    <tr>\n",
              "      <th>11</th>\n",
              "      <td>0</td>\n",
              "      <td>0</td>\n",
              "    </tr>\n",
              "    <tr>\n",
              "      <th>12</th>\n",
              "      <td>1</td>\n",
              "      <td>1</td>\n",
              "    </tr>\n",
              "    <tr>\n",
              "      <th>13</th>\n",
              "      <td>6</td>\n",
              "      <td>6</td>\n",
              "    </tr>\n",
              "    <tr>\n",
              "      <th>14</th>\n",
              "      <td>3</td>\n",
              "      <td>3</td>\n",
              "    </tr>\n",
              "    <tr>\n",
              "      <th>15</th>\n",
              "      <td>5</td>\n",
              "      <td>5</td>\n",
              "    </tr>\n",
              "    <tr>\n",
              "      <th>16</th>\n",
              "      <td>0</td>\n",
              "      <td>0</td>\n",
              "    </tr>\n",
              "    <tr>\n",
              "      <th>17</th>\n",
              "      <td>5</td>\n",
              "      <td>5</td>\n",
              "    </tr>\n",
              "    <tr>\n",
              "      <th>18</th>\n",
              "      <td>1</td>\n",
              "      <td>1</td>\n",
              "    </tr>\n",
              "    <tr>\n",
              "      <th>19</th>\n",
              "      <td>3</td>\n",
              "      <td>3</td>\n",
              "    </tr>\n",
              "    <tr>\n",
              "      <th>20</th>\n",
              "      <td>1</td>\n",
              "      <td>1</td>\n",
              "    </tr>\n",
              "  </tbody>\n",
              "</table>\n",
              "</div>"
            ],
            "text/plain": [
              "    Predik_Kategoria  Realna_Kategoria\n",
              "0                  2                 4\n",
              "1                  3                 3\n",
              "2                  3                 3\n",
              "3                  0                 0\n",
              "4                  0                 0\n",
              "5                  0                 0\n",
              "6                  1                 1\n",
              "7                  3                 3\n",
              "8                  0                 0\n",
              "9                  0                 0\n",
              "10                 6                 6\n",
              "11                 0                 0\n",
              "12                 1                 1\n",
              "13                 6                 6\n",
              "14                 3                 3\n",
              "15                 5                 5\n",
              "16                 0                 0\n",
              "17                 5                 5\n",
              "18                 1                 1\n",
              "19                 3                 3\n",
              "20                 1                 1"
            ]
          },
          "metadata": {
            "tags": []
          },
          "execution_count": 14
        }
      ]
    },
    {
      "cell_type": "code",
      "metadata": {
        "id": "s_05GgcRDcSj",
        "colab": {
          "base_uri": "https://localhost:8080/"
        },
        "outputId": "39c7929b-5999-4b3e-9ab1-e2147ce0eb98"
      },
      "source": [
        "# zmätková matica\n",
        "# presnejsie zobrazenie nam ukaze zmätková matica\n",
        "confusion_matrix(y_pred = y_predik, y_true = y_real)"
      ],
      "execution_count": 15,
      "outputs": [
        {
          "output_type": "execute_result",
          "data": {
            "text/plain": [
              "array([[7, 0, 0, 0, 0, 0, 0],\n",
              "       [0, 4, 0, 0, 0, 0, 0],\n",
              "       [0, 0, 0, 0, 0, 0, 0],\n",
              "       [0, 0, 0, 5, 0, 0, 0],\n",
              "       [0, 0, 1, 0, 0, 0, 0],\n",
              "       [0, 0, 0, 0, 0, 2, 0],\n",
              "       [0, 0, 0, 0, 0, 0, 2]])"
            ]
          },
          "metadata": {
            "tags": []
          },
          "execution_count": 15
        }
      ]
    },
    {
      "cell_type": "code",
      "metadata": {
        "id": "lH6EPajloL06"
      },
      "source": [
        "def plot_confusion_matrix(cm, classes,\n",
        "                          normalize=False,\n",
        "                          title='Confusion matrix',\n",
        "                          cmap=plt.cm.Blues):\n",
        "    \"\"\"\n",
        "    This function prints and plots the confusion matrix.\n",
        "    Normalization can be applied by setting `normalize=True`.\n",
        "    \"\"\"\n",
        "    plt.imshow(cm, interpolation='nearest', cmap=cmap)\n",
        "    plt.title(title)\n",
        "    plt.colorbar()\n",
        "    tick_marks = np.arange(len(classes))\n",
        "    plt.xticks(tick_marks, classes, rotation=45)\n",
        "    plt.yticks(tick_marks, classes)\n",
        "\n",
        "    if normalize:\n",
        "        cm = cm.astype('float') / cm.sum(axis=1)[:, np.newaxis]\n",
        "        print(\"Normalized confusion matrix\")\n",
        "    else:\n",
        "        print('Confusion matrix, without normalization')\n",
        "\n",
        "    print(cm)\n",
        "\n",
        "    thresh = cm.max() / 2.\n",
        "    for i, j in itertools.product(range(cm.shape[0]), range(cm.shape[1])):\n",
        "        plt.text(j, i, cm[i, j],\n",
        "                 horizontalalignment=\"center\",\n",
        "                 color=\"white\" if cm[i, j] > thresh else \"black\")\n",
        "\n",
        "    plt.tight_layout()\n",
        "    plt.ylabel('True label')\n",
        "    plt.xlabel('Predicted label')\n",
        "# zdroj: https://scikit-learn.org/0.18/auto_examples/model_selection/plot_confusion_matrix.html"
      ],
      "execution_count": 16,
      "outputs": []
    },
    {
      "cell_type": "code",
      "metadata": {
        "id": "lh-jr60j809O",
        "colab": {
          "base_uri": "https://localhost:8080/",
          "height": 447
        },
        "outputId": "ced98eea-8776-4719-bb69-c925adfc737a"
      },
      "source": [
        "#ukaze nam ako spravne predikoval nas model na testovacich datach\n",
        "cm = confusion_matrix(y_pred = y_predik, y_true = y_real)\n",
        "# vytvorenie matice graficky\n",
        "cm_plot_labels = ['Mammal','Bird','Reptile','Fish','Amphibian','Bug','Invertebrate']\n",
        "plot_confusion_matrix(cm=cm, classes=cm_plot_labels, title='Zmätková Matica')\n",
        "# uvidime graf kde budu spravne kategorizovane (pocty ci to je zviera a ci to nieje zviera) a predikovane kategorizovanie (pocty ci to je zviera a ci to nieje zviera)\n",
        "# porovnanie kolke kategorizoval spravne a kolke nekategorizoval spravne?"
      ],
      "execution_count": 18,
      "outputs": [
        {
          "output_type": "stream",
          "text": [
            "Confusion matrix, without normalization\n",
            "[[7 0 0 0 0 0 0]\n",
            " [0 4 0 0 0 0 0]\n",
            " [0 0 0 0 0 0 0]\n",
            " [0 0 0 5 0 0 0]\n",
            " [0 0 1 0 0 0 0]\n",
            " [0 0 0 0 0 2 0]\n",
            " [0 0 0 0 0 0 2]]\n"
          ],
          "name": "stdout"
        },
        {
          "output_type": "display_data",
          "data": {
            "image/png": "[encoded data removed]",
            "text/plain": [
              "<Figure size 432x288 with 2 Axes>"
            ]
          },
          "metadata": {
            "tags": [],
            "needs_background": "light"
          }
        }
      ]
    }
  ]
}