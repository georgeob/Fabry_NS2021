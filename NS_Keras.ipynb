{
  "nbformat": 4,
  "nbformat_minor": 0,
  "metadata": {
    "colab": {
      "name": "NS_Keras.ipynb",
      "provenance": [],
      "collapsed_sections": []
    },
    "kernelspec": {
      "name": "python3",
      "display_name": "Python 3"
    },
    "language_info": {
      "name": "python"
    }
  },
  "cells": [
    {
      "cell_type": "code",
      "metadata": {
        "id": "hxE0ONFFKFZi"
      },
      "source": [
        "# kontrola ukladania 2\n",
        "import pandas as pd\n",
        "import numpy as np"
      ],
      "execution_count": null,
      "outputs": []
    },
    {
      "cell_type": "code",
      "metadata": {
        "id": "UIgR57OXKH4c"
      },
      "source": [
        "COLUMN_NAMES = ['SepalLength', 'SepalWidth', 'PetalLength', 'PetalWidth', 'Species']\n",
        "dataSet = pd.read_csv(\"iris_training.csv\", names=COLUMN_NAMES, header = 0)"
      ],
      "execution_count": null,
      "outputs": []
    },
    {
      "cell_type": "code",
      "metadata": {
        "id": "iL1KBxMbKMxE"
      },
      "source": [
        "trainX = dataSet.iloc[:,0:4].values # trenovacia mnozinaX"
      ],
      "execution_count": null,
      "outputs": []
    },
    {
      "cell_type": "code",
      "metadata": {
        "id": "F-nQNEWeKSdX"
      },
      "source": [
        "trainY = dataSet.iloc[:,4].values # budu kategoricke premenne\n",
        "#trainY = (dataSet.Species == 0).astype(np.int)"
      ],
      "execution_count": null,
      "outputs": []
    },
    {
      "cell_type": "code",
      "metadata": {
        "id": "758ik90iKVHo"
      },
      "source": [
        "from keras.utils import np_utils\n",
        "# ak nejde !pip install tensorflow je to requirement pre keras\n",
        "# ak vyhadzuje chyby !pip install --user tensorflow al !pip3 install tensorflow\n",
        "# al !pip install keras\n",
        "from keras.utils import to_categorical"
      ],
      "execution_count": null,
      "outputs": []
    },
    {
      "cell_type": "code",
      "metadata": {
        "id": "Lgef-yADKjdi"
      },
      "source": [
        "# nastavit kategorie vsetkym rastlinam 0 1 2 (3 druhy)\n",
        "kategorickaPremenna = np_utils.to_categorical(trainY)"
      ],
      "execution_count": null,
      "outputs": []
    },
    {
      "cell_type": "code",
      "metadata": {
        "id": "Nv7ejrURRx0d"
      },
      "source": [
        "# potrebujeme model a vrstvy\n",
        "from keras.models import Sequential # sekvencny model\n",
        "from keras.layers import Dense # vrstvy"
      ],
      "execution_count": null,
      "outputs": []
    },
    {
      "cell_type": "code",
      "metadata": {
        "id": "dDJLTSqISNaK"
      },
      "source": [
        "mojKerasModel = Sequential()"
      ],
      "execution_count": null,
      "outputs": []
    },
    {
      "cell_type": "code",
      "metadata": {
        "id": "ILxauVtcSQ-I"
      },
      "source": [
        "# pridame vrstvy\n",
        "# vstupna vrstva s 30 neuronmi\n",
        "# input_dim pocet dimenzii (vrstiev)\n",
        "mojKerasModel.add(Dense(30, input_dim = 4, activation='tanh'))"
      ],
      "execution_count": null,
      "outputs": []
    },
    {
      "cell_type": "code",
      "metadata": {
        "id": "w8hua6FpS59Z"
      },
      "source": [
        "# pridam skrytu vrstvu\n",
        "mojKerasModel.add(Dense(30, activation='tanh'))"
      ],
      "execution_count": null,
      "outputs": []
    },
    {
      "cell_type": "code",
      "metadata": {
        "id": "S9z2D4a8TIFd"
      },
      "source": [
        "# vystupna vrstva ma tri neurony lebo kategoricka premenna ma tri hodnoty tak sme si ju spravili\n",
        "mojKerasModel.add(Dense(3))\n",
        "# model je pripraveny treba ho natrenovat"
      ],
      "execution_count": null,
      "outputs": []
    },
    {
      "cell_type": "code",
      "metadata": {
        "id": "W_vNfTgIT7PR"
      },
      "source": [
        "# pred trenovanim ho treba skompilovat\n",
        "# param strata - loss napr. metoda najmensich stvorcov\n",
        "# optimizer - na zaklade coho sa ma optimalizovat (adam byva naj)\n",
        "# metrics - pridanie presnosti k vysledku\n",
        "mojKerasModel.compile(loss='mean_squared_error', optimizer='sgd', metrics=['accuracy'])"
      ],
      "execution_count": null,
      "outputs": []
    },
    {
      "cell_type": "code",
      "metadata": {
        "colab": {
          "base_uri": "https://localhost:8080/"
        },
        "id": "iApkEAbHTc5c",
        "outputId": "522e87da-a9fc-433b-f4d9-deaf581f74b5"
      },
      "source": [
        "# trenovanie parametrom trainX\n",
        "# upravovat activation\n",
        "mojKerasModel.fit(trainX, kategorickaPremenna)"
      ],
      "execution_count": null,
      "outputs": [
        {
          "output_type": "stream",
          "text": [
            "4/4 [==============================] - 1s 5ms/step - loss: 0.2527 - accuracy: 0.7102\n"
          ],
          "name": "stdout"
        },
        {
          "output_type": "execute_result",
          "data": {
            "text/plain": [
              "<tensorflow.python.keras.callbacks.History at 0x7faba45ebc50>"
            ]
          },
          "metadata": {
            "tags": []
          },
          "execution_count": 13
        }
      ]
    }
  ]
}